{
 "cells": [
  {
   "cell_type": "markdown",
   "metadata": {},
   "source": [
    "# Collaboration and Competition\n",
    "\n",
    "---\n",
    "\n",
    "You are welcome to use this coding environment to train your agent for the project.  Follow the instructions below to get started!\n",
    "\n",
    "### 1. Start the Environment\n",
    "\n",
    "Run the next code cell to install a few packages.  This line will take a few minutes to run!"
   ]
  },
  {
   "cell_type": "code",
   "execution_count": 1,
   "metadata": {},
   "outputs": [],
   "source": [
    "!pip -q install ./python"
   ]
  },
  {
   "cell_type": "markdown",
   "metadata": {},
   "source": [
    "The environment is already saved in the Workspace and can be accessed at the file path provided below. "
   ]
  },
  {
   "cell_type": "code",
   "execution_count": 2,
   "metadata": {},
   "outputs": [
    {
     "name": "stderr",
     "output_type": "stream",
     "text": [
      "INFO:unityagents:\n",
      "'Academy' started successfully!\n",
      "Unity Academy name: Academy\n",
      "        Number of Brains: 1\n",
      "        Number of External Brains : 1\n",
      "        Lesson number : 0\n",
      "        Reset Parameters :\n",
      "\t\t\n",
      "Unity brain name: TennisBrain\n",
      "        Number of Visual Observations (per agent): 0\n",
      "        Vector Observation space type: continuous\n",
      "        Vector Observation space size (per agent): 8\n",
      "        Number of stacked Vector Observation: 3\n",
      "        Vector Action space type: continuous\n",
      "        Vector Action space size (per agent): 2\n",
      "        Vector Action descriptions: , \n"
     ]
    }
   ],
   "source": [
    "from unityagents import UnityEnvironment\n",
    "import numpy as np\n",
    "from ddpg_agent import Agent\n",
    "from collections import deque\n",
    "import torch\n",
    "import matplotlib.pyplot as plt\n",
    "%matplotlib inline\n",
    "\n",
    "env = UnityEnvironment(file_name=\"/data/Tennis_Linux_NoVis/Tennis\")"
   ]
  },
  {
   "cell_type": "markdown",
   "metadata": {},
   "source": [
    "Environments contain **_brains_** which are responsible for deciding the actions of their associated agents. Here we check for the first brain available, and set it as the default brain we will be controlling from Python."
   ]
  },
  {
   "cell_type": "code",
   "execution_count": 3,
   "metadata": {},
   "outputs": [],
   "source": [
    "# get the default brain\n",
    "brain_name = env.brain_names[0]\n",
    "brain = env.brains[brain_name]"
   ]
  },
  {
   "cell_type": "markdown",
   "metadata": {},
   "source": [
    "### 2. Examine the State and Action Spaces\n",
    "\n",
    "Run the code cell below to print some information about the environment."
   ]
  },
  {
   "cell_type": "code",
   "execution_count": 4,
   "metadata": {},
   "outputs": [
    {
     "name": "stdout",
     "output_type": "stream",
     "text": [
      "Number of agents: 2\n",
      "Size of each action: 2\n",
      "There are 2 agents. Each observes a state with length: 24\n",
      "The state for the first agent looks like: [ 0.          0.          0.          0.          0.          0.          0.\n",
      "  0.          0.          0.          0.          0.          0.          0.\n",
      "  0.          0.         -6.65278625 -1.5        -0.          0.\n",
      "  6.83172083  6.         -0.          0.        ]\n"
     ]
    }
   ],
   "source": [
    "# reset the environment\n",
    "env_info = env.reset(train_mode=True)[brain_name]\n",
    "\n",
    "# number of agents \n",
    "num_agents = len(env_info.agents)\n",
    "print('Number of agents:', num_agents)\n",
    "\n",
    "# size of each action\n",
    "action_size = brain.vector_action_space_size\n",
    "print('Size of each action:', action_size)\n",
    "\n",
    "# examine the state space \n",
    "states = env_info.vector_observations\n",
    "state_size = states.shape[1]\n",
    "print('There are {} agents. Each observes a state with length: {}'.format(states.shape[0], state_size))\n",
    "print('The state for the first agent looks like:', states[0])"
   ]
  },
  {
   "cell_type": "markdown",
   "metadata": {},
   "source": [
    "### 3. Take Random Actions in the Environment\n",
    "\n",
    "In the next code cell, you will learn how to use the Python API to control the agent and receive feedback from the environment.\n",
    "\n",
    "Note that **in this coding environment, you will not be able to watch the agents while they are training**, and you should set `train_mode=True` to restart the environment."
   ]
  },
  {
   "cell_type": "code",
   "execution_count": 5,
   "metadata": {},
   "outputs": [
    {
     "name": "stdout",
     "output_type": "stream",
     "text": [
      "Episode 100\tAverage Score: 0.00\n",
      "Episode 200\tAverage Score: 0.00\n",
      "Episode 300\tAverage Score: 0.00\n",
      "Episode 400\tAverage Score: 0.00\n",
      "Episode 500\tAverage Score: 0.00\n",
      "Episode 600\tAverage Score: 0.00\n",
      "Episode 700\tAverage Score: 0.00\n",
      "Episode 800\tAverage Score: 0.00\n",
      "Episode 900\tAverage Score: 0.02\n",
      "Episode 1000\tAverage Score: 0.00\n",
      "Episode 1100\tAverage Score: 0.00\n",
      "Episode 1200\tAverage Score: 0.00\n",
      "Episode 1300\tAverage Score: 0.00\n",
      "Episode 1400\tAverage Score: 0.00\n",
      "Episode 1500\tAverage Score: 0.00\n",
      "Episode 1600\tAverage Score: 0.01\n",
      "Episode 1700\tAverage Score: 0.02\n",
      "Episode 1800\tAverage Score: 0.14\n",
      "Episode 1900\tAverage Score: 0.15\n",
      "Episode 2000\tAverage Score: 0.12\n",
      "Episode 2100\tAverage Score: 0.16\n",
      "Episode 2200\tAverage Score: 0.19\n",
      "Episode 2300\tAverage Score: 0.37\n",
      "Episode 2385\tAverage Score: 0.51\n",
      "Environment solved in 2285 episodes!\tAverage Score: 0.51\n"
     ]
    }
   ],
   "source": [
    "agent  = Agent(state_size, action_size, random_seed = 2)\n",
    "n_episodes=2500 #Number of episodes 3000\n",
    "max_t=500 # \n",
    "print_every=100\n",
    "avg_score = []\n",
    "scores_deque = deque(maxlen=print_every)\n",
    "STEPS = 10\n",
    "num_update = 10 # Update agent after n steps\n",
    "len_agents = len(str(num_agents))\n",
    "num_agents = 2\n",
    "env_solv = False\n",
    "\n",
    "agent_parameters = {\"state_size\": state_size, \"action_size\": action_size, \"random_seed\": 2}\n",
    "agents = [Agent(**agent_parameters) for _ in range(num_agents)]\n",
    "\n",
    "assert len(agents) == num_agents\n",
    "\n",
    "for i_episode in range(1, n_episodes+1):\n",
    "    # initialize the score (for each agent)\n",
    "    scores = np.zeros(num_agents)\n",
    "    # reset the environment    \n",
    "    env_info = env.reset(train_mode=True)[brain_name]\n",
    "    # get the current state (for each agent)    \n",
    "    states = env_info.vector_observations\n",
    "    agent.reset()\n",
    "    for t in range(max_t):\n",
    "        # select actions (for each agent)\n",
    "        actions = agent.act(states)\n",
    "        # send all actions to tne environment   \n",
    "        env_info = env.step(actions)[brain_name]\n",
    "        # get next state (for each agent)\n",
    "        next_states = env_info.vector_observations\n",
    "        # get reward (for each agent)\n",
    "        rewards = env_info.rewards\n",
    "        # see if episode finished\n",
    "        dones = env_info.local_done                        \n",
    "        #Save experience/reward in replay memory          \n",
    "        agent.save_experience_replay(states, actions, rewards, next_states, dones)\n",
    "        if ( t % STEPS == 0):\n",
    "            agent.step(states, actions, rewards, next_states, dones)\n",
    "        # roll over states to next time step\n",
    "        states  = next_states\n",
    "        # update the score (for each agent)\n",
    "        scores += rewards\n",
    "        # exit loop if episode finished\n",
    "        if np.any(dones):                                  \n",
    "            break\n",
    "    #Total score (averaged over agents) this episode\n",
    "    score = np.max(scores)        \n",
    "    avg_score.append(score)\n",
    "    # save most recent score\n",
    "    scores_deque.append(score)      \n",
    "    print('\\rEpisode {}\\tAverage Score: {:.2f}'.format(i_episode, np.mean(scores_deque)), end=\"\")\n",
    "\n",
    "    if i_episode % print_every == 0:\n",
    "        #print(\"\\n\")\n",
    "        print('\\rEpisode {}\\tAverage Score: {:.2f}'.format(i_episode, np.mean(scores_deque)))\n",
    "    for idx, agent in enumerate(agents):\n",
    "        torch.save(agent.actor_local.state_dict(), 'checkpoint_actor.pth')\n",
    "        torch.save(agent.critic_local.state_dict(), 'checkpoint_critic.pth')\n",
    "    if np.mean(scores_deque)> 0.5:\n",
    "        print('\\nEnvironment solved in {:d} episodes!\\tAverage Score: {:.2f}'.format(i_episode-print_every, np.mean(scores_deque)))\n",
    "        break\n",
    "scores = avg_score"
   ]
  },
  {
   "cell_type": "code",
   "execution_count": 11,
   "metadata": {},
   "outputs": [
    {
     "data": {
      "image/png": "[encoded data removed]",
      "text/plain": [
       "<matplotlib.figure.Figure at 0x7fe3555c2da0>"
      ]
     },
     "metadata": {
      "needs_background": "light"
     },
     "output_type": "display_data"
    }
   ],
   "source": [
    "fig = plt.figure(figsize=(8, 5))\n",
    "ax = fig.add_subplot(111)\n",
    "# Plot\n",
    "plt.plot(np.arange(1, len(scores)+1), scores)\n",
    "plt.yticks(fontsize=10)    \n",
    "plt.xticks(fontsize=10) \n",
    "plt.ylabel('Score',fontsize=14)\n",
    "plt.xlabel('Episodes',fontsize=14)\n",
    "plt.title(\"Experiment 4\",fontsize=18, ha='center')\n",
    "plt.text(-10, -0.4, \"Environment solved in 2285 episodes! Average Score: 0.51\", fontsize=15)\n",
    "#fig.savefig('plot_1.png', bbox_inches=\"tight\")\n",
    "plt.show()"
   ]
  },
  {
   "cell_type": "markdown",
   "metadata": {},
   "source": [
    "When finished, you can close the environment."
   ]
  },
  {
   "cell_type": "code",
   "execution_count": null,
   "metadata": {},
   "outputs": [],
   "source": [
    "env.close()"
   ]
  },
  {
   "cell_type": "markdown",
   "metadata": {},
   "source": [
    "### 4. It's Your Turn!\n",
    "\n",
    "Now it's your turn to train your own agent to solve the environment!  A few **important notes**:\n",
    "- When training the environment, set `train_mode=True`, so that the line for resetting the environment looks like the following:\n",
    "```python\n",
    "env_info = env.reset(train_mode=True)[brain_name]\n",
    "```\n",
    "- To structure your work, you're welcome to work directly in this Jupyter notebook, or you might like to start over with a new file!  You can see the list of files in the workspace by clicking on **_Jupyter_** in the top left corner of the notebook.\n",
    "- In this coding environment, you will not be able to watch the agents while they are training.  However, **_after training the agents_**, you can download the saved model weights to watch the agents on your own machine! "
   ]
  }
 ],
 "metadata": {
  "kernelspec": {
   "display_name": "Python 3",
   "language": "python",
   "name": "python3"
  },
  "language_info": {
   "codemirror_mode": {
    "name": "ipython",
    "version": 3
   },
   "file_extension": ".py",
   "mimetype": "text/x-python",
   "name": "python",
   "nbconvert_exporter": "python",
   "pygments_lexer": "ipython3",
   "version": "3.6.3"
  }
 },
 "nbformat": 4,
 "nbformat_minor": 2
}
